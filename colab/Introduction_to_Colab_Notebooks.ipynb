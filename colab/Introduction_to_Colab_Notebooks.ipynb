{
  "nbformat": 4,
  "nbformat_minor": 0,
  "metadata": {
    "colab": {
      "provenance": [],
      "include_colab_link": true
    },
    "kernelspec": {
      "name": "python3",
      "display_name": "Python 3"
    },
    "language_info": {
      "name": "python"
    }
  },
  "cells": [
    {
      "cell_type": "markdown",
      "metadata": {
        "id": "view-in-github",
        "colab_type": "text"
      },
      "source": [
        "<a href=\"https://colab.research.google.com/github/George0023/ME-597-IIOT/blob/main/Introduction_to_Colab_Notebooks.ipynb\" target=\"_parent\"><img src=\"https://colab.research.google.com/assets/colab-badge.svg\" alt=\"Open In Colab\"/></a>"
      ]
    },
    {
      "cell_type": "markdown",
      "metadata": {
        "id": "HPT62zwNCFdB"
      },
      "source": [
        "#\"Hello World\" Notebook Tutorial\n"
      ]
    },
    {
      "cell_type": "markdown",
      "metadata": {
        "id": "IX9X5Wd1M_64"
      },
      "source": [
        "Use Colab notebooks to teach concepts and have users practice them as they learn the concepts.\n",
        "Basic concepts covered throughout this notebook are:\n",
        "1. Print Text\n",
        "2. Import Python Libraries\n",
        "3. Insert an image and video into text\n",
        "4. Type equations in text\n",
        "5. Random number generator with plotting \n",
        "\\\n",
        "and include critical concepts of providing descriptive text, arranging lessons, and commenting code throughout these 5 sections"
      ]
    },
    {
      "cell_type": "markdown",
      "metadata": {
        "id": "MYshlmONDgXj"
      },
      "source": [
        "## 1) Print Text\n",
        "\n",
        "Text to print will be \"Hello World\""
      ]
    },
    {
      "cell_type": "code",
      "metadata": {
        "colab": {
          "base_uri": "https://localhost:8080/"
        },
        "id": "xBzOg8IbCFHy",
        "outputId": "aeaa5846-2831-44b0-fca2-36a1611015ce"
      },
      "source": [
        "# Don't forget to comment the code too\n",
        "# Printing Hello World or other text is easy\n",
        "# The below code prints the text between the (\" \"). \n",
        "# Replace Hello World with other text of your choosing and hit the play button to run the code\n",
        "print (\"Hello World\")   "
      ],
      "execution_count": null,
      "outputs": [
        {
          "output_type": "stream",
          "name": "stdout",
          "text": [
            "Hello World\n"
          ]
        }
      ]
    },
    {
      "cell_type": "markdown",
      "metadata": {
        "id": "HJFkSmiKDwfK"
      },
      "source": [
        "## 2) Import Python libraries\n",
        "These libraries are from [SciPy](https://scipy.org/) and [Seaborn](https://seaborn.pydata.org/) and are imporant for more caclualtions, plotting, and other functions that we are likely to use. \n",
        "- **numpy** is for math and logic operations\n",
        "- **scipy** is for fundamental scientific computing (image and signal processing, integration, linear algebra, statistics) and has a number of modules that can be imported for specific needs\n",
        "- **pandas** is for data structures and storing data\n",
        "- **matplotlib** is for 2D graphing and plotting data\n",
        "- **seaborn** is for more complex data visualizations and is built on top of matplotlib\n",
        "\\\n",
        "Specific packages in the libraries provide important subfunctions as well"
      ]
    },
    {
      "cell_type": "code",
      "metadata": {
        "id": "78wtK2_PCEWy"
      },
      "source": [
        "# Useful libraries to import for caculations, plotting, etc.\n",
        "# Importing libraries is critical to making funcations, ploting and most everything else work\n",
        "# Some libraries and packages provide additional information when you hover over them in the code section with your mouse\n",
        "# Make importing libraries and packages the first code in any new notebook\n",
        "import numpy as np                # for math and logic operations. Shortcut np used\n",
        "import pandas as pd               # for data structures and storing data. Shortcut pd used\n",
        "import matplotlib.pyplot as plt   # for 2D graphing and plotting data. Shorcut plt used\n",
        "import scipy                      # for fundamental scientific computing\n",
        "import scipy.sparse               # scipy package for 2-D matrix package for numerical data\n",
        "import scipy.sparse.linalg        # scipy package for matrix opperations and linear algebra\n",
        "import seaborn                    # for data visualization"
      ],
      "execution_count": null,
      "outputs": []
    },
    {
      "cell_type": "markdown",
      "metadata": {
        "id": "Yb1QaU4jQnqQ"
      },
      "source": [
        "## 3) Insert an image into your text\n",
        "\n",
        "### Image example:\n",
        "1. Save an image to your google drive\n",
        "2. Copy the link e.g. \"https://drive.google.com/uc?id=1CP64yjQjhXVxUd6v5X9Y3yhiQdlf-mgh\"\n",
        "3. Use < image src=\"https://drive.google.com/your_file_location\"> to embed an image into the text (*no space between '<' and 'image'*)\n",
        "4. Adjust image size using 'width= \"number_of_pixels' before the '>'\n",
        "\n",
        "#### ELISA image example:\n",
        "< image src=\"https://drive.google.com/uc?id=1CP64yjQjhXVxUd6v5X9Y3yhiQdlf-mgh\" width=\"340\">\n",
        "\\\n",
        "Results in:\n",
        "\n",
        "<image src=\"\n",
        "https://drive.google.com/uc?id=1CP64yjQjhXVxUd6v5X9Y3yhiQdlf-mgh\" width=\"340\">\n",
        "<image src=\"\n",
        "https://drive.google.com/uc?id=1CP64yjQjhXVxUd6v5X9Y3yhiQdlf-mgh\" width=\"340\">\n",
        "\n",
        "Don't forge to credit the original source:\n",
        "- [ELISA Image source](https://thenativeantigencompany.com/why-we-need-antigen-and-antibody-tests-for-covid-19/)"
      ]
    },
    {
      "cell_type": "markdown",
      "metadata": {
        "id": "UMUzcjvP6SY1"
      },
      "source": [
        "4) Insert YouTube video into your code\n",
        "1. Find youtube video\n",
        "- e.g. https://www.youtube.com/watch?v=inN8seMm7UI\n",
        "2. copy the last part of the video name (ie. \"inN8seMm7UI\" after the \"=\") \n",
        "3. Insert using the lines:\n",
        "\\\n",
        "from IPython.display import YouTubeVideo\n",
        "\\\n",
        "YouTubeVideo('inN8seMm7UI')"
      ]
    },
    {
      "cell_type": "code",
      "metadata": {
        "colab": {
          "base_uri": "https://localhost:8080/",
          "height": 321
        },
        "id": "RPjG6f0W6HlC",
        "outputId": "701a0a06-8a24-48d6-c1be-7df49f29fdf4"
      },
      "source": [
        "### Insert Video code example:\n",
        "from IPython.display import YouTubeVideo\n",
        "YouTubeVideo('eOxHRFN4rs0')\n",
        "\n",
        "#Now watch this video, it will be helpful. "
      ],
      "execution_count": null,
      "outputs": [
        {
          "output_type": "execute_result",
          "data": {
            "text/plain": [
              "<IPython.lib.display.YouTubeVideo at 0x7fe150149880>"
            ],
            "text/html": [
              "\n",
              "        <iframe\n",
              "            width=\"400\"\n",
              "            height=\"300\"\n",
              "            src=\"https://www.youtube.com/embed/eOxHRFN4rs0\"\n",
              "            frameborder=\"0\"\n",
              "            allowfullscreen\n",
              "        ></iframe>\n",
              "        "
            ],
            "image/jpeg": "[encoded data removed]"
          },
          "metadata": {},
          "execution_count": 1
        }
      ]
    },
    {
      "cell_type": "markdown",
      "metadata": {
        "id": "4JfWVdDVHOXp"
      },
      "source": [
        "##4) Type Equations in the text\n",
        "\n",
        "When typing use the dollar sign to create math equations. Info between the two \"$$\" is typed in Math text as equations.\n",
        "\\\n",
        "z^2 becomes $z^2$\n",
        "\\\n",
        "\\frac{x}{y} becomes $\\frac{x}{y}$ \n",
        "\\\n",
        "\\frac{\\partial x^2}{\\partial t} becomes $\\frac{\\partial x^2}{\\partial t}$ \n",
        "\n",
        "\\\n",
        "####For example:\n",
        "The equation that describes diffusion of a molecule in 1-dimensional space is:\n",
        "\n",
        "$\\frac{\\partial C}{\\partial t} = D\\frac{\\partial C^2}{\\partial x^2}$\n",
        "\n",
        "where:\n",
        "  - $C$: concentration\n",
        "  - $D$: diffusion coefficient\n",
        "  - $x$: spatial location\n",
        "  - $t$: time\n"
      ]
    },
    {
      "cell_type": "markdown",
      "metadata": {
        "id": "XvEdmuacHFYw"
      },
      "source": [
        "## 5) Random number generator with plotting\n",
        "(example adapted from: https://colab.research.google.com/#scrollTo=5fCEDCU_qrC0)\n",
        "\\\n",
        "Generates 100 random numbers centered around 1000\n",
        "- try generating larger smaller numbers\n",
        "- try generating more/less numbers\n",
        "\n",
        "\\\n",
        "Plots the numbers as lines: (x, ys, '-')\n",
        " - try circles using 'o' instead of '-'\n",
        "\n",
        "\\\n",
        "Shades the space between 1000 and numbers larger than 1000 light red: facecolor = 'r', alpha=0.5)\n",
        " - try changing coloring to replace 'r' with other colors and shading intensity changing alpha value.\n",
        " - try adding shading to the space between 1000 and the numbers smaller than 1000"
      ]
    },
    {
      "cell_type": "code",
      "metadata": {
        "colab": {
          "base_uri": "https://localhost:8080/",
          "height": 281
        },
        "id": "FTetowUsNXUv",
        "outputId": "8dc6b0ee-080c-4dcc-bf0f-aef0127803be"
      },
      "source": [
        "#Code section of the random number generator with plotting\n",
        "\n",
        "y0 = 1000                         # average of the numbers = ???\n",
        "n = 10                           # numbers to generate = ???\n",
        "ys = y0 + np.random.randn(n)      # y axis point random number generator with n numbers centered around y0 \n",
        "x = [x for x in range(len(ys))]   # x axis points for the number y axis points generated\n",
        "\n",
        "plt.plot(x, ys, '-')              # plot x vs y using lines 'o'\n",
        "\n",
        "# here you can shade in the plot where ranges are higher than a specific value, for example y0 (but could change to a different number)\n",
        "# facecolor red ('r') and shading intensity (alpha=0.5) are used but different colors and shadings can also be used\n",
        "plt.fill_between(x, ys, y0, where=(ys > y0), facecolor='r', alpha=0.5)\n",
        "plt.title(\"Sample Visualization\") # Labels the graph title\n",
        "plt.show()                        # prints the graph\n"
      ],
      "execution_count": null,
      "outputs": [
        {
          "output_type": "display_data",
          "data": {
            "text/plain": [
              "<Figure size 432x288 with 1 Axes>"
            ],
            "image/png": "[encoded data removed]"
          },
          "metadata": {
            "needs_background": "light"
          }
        }
      ]
    }
  ]
}